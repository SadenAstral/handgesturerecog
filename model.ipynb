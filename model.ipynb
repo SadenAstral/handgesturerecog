{
 "cells": [
  {
   "cell_type": "code",
   "execution_count": 1,
   "id": "initial_id",
   "metadata": {
    "collapsed": true,
    "ExecuteTime": {
     "end_time": "2024-04-04T08:14:00.264409300Z",
     "start_time": "2024-04-04T08:13:59.304327800Z"
    }
   },
   "outputs": [],
   "source": [
    "import os\n",
    "import pandas as pd\n",
    "import numpy as np"
   ]
  },
  {
   "cell_type": "code",
   "outputs": [],
   "source": [
    "path='training_set.csv'"
   ],
   "metadata": {
    "collapsed": false,
    "ExecuteTime": {
     "end_time": "2024-04-04T08:14:00.280410600Z",
     "start_time": "2024-04-04T08:14:00.262411400Z"
    }
   },
   "id": "db7c2e6585b42199",
   "execution_count": 2
  },
  {
   "cell_type": "code",
   "outputs": [
    {
     "name": "stdout",
     "output_type": "stream",
     "text": [
      "      Landmark_1  Landmark_1.1  Landmark_2  Landmark_2.1  Landmark_3  \\\n",
      "0       0.711043      0.780427    0.659234      0.727291    0.649127   \n",
      "1       0.708050      0.781900    0.701195      0.714222    0.697141   \n",
      "2       0.703424      0.780437    0.710349      0.712303    0.707363   \n",
      "3       0.690665      0.769731    0.708838      0.695502    0.704932   \n",
      "4       0.679726      0.768610    0.701220      0.697111    0.697889   \n",
      "...          ...           ...         ...           ...         ...   \n",
      "1883    0.713533      0.754582    0.716890      0.665118    0.720678   \n",
      "1884    0.474237      0.820640    0.488393      0.728018    0.537454   \n",
      "1885    0.435381      0.848009    0.452731      0.757673    0.502674   \n",
      "1886    0.419285      0.575615    0.412108      0.477879    0.382376   \n",
      "1887    0.459278      0.560038    0.438118      0.454594    0.405663   \n",
      "\n",
      "      Landmark_3.1  Landmark_4  Landmark_4.1  Landmark_5  Landmark_5.1  ...  \\\n",
      "0         0.666429    0.643421      0.620828    0.637780      0.579763  ...   \n",
      "1         0.649081    0.687453      0.609978    0.671733      0.585829  ...   \n",
      "2         0.643416    0.691148      0.603673    0.668692      0.584077  ...   \n",
      "3         0.628170    0.681998      0.592293    0.654159      0.580747  ...   \n",
      "4         0.633781    0.674622      0.596572    0.645397      0.586150  ...   \n",
      "...            ...         ...           ...         ...           ...  ...   \n",
      "1883      0.579144    0.721328      0.507058    0.728012      0.453227  ...   \n",
      "1884      0.621796    0.560636      0.542652    0.561579      0.475251  ...   \n",
      "1885      0.646148    0.525266      0.563993    0.524098      0.491403  ...   \n",
      "1886      0.379012    0.351960      0.299952    0.339373      0.229979  ...   \n",
      "1887      0.357946    0.379295      0.276003    0.365768      0.207443  ...   \n",
      "\n",
      "      Landmark_17.1  Landmark_18  Landmark_18.1  Landmark_19  Landmark_19.1  \\\n",
      "0          0.656110     0.727262       0.577298     0.655548       0.577371   \n",
      "1          0.644559     0.698506       0.580879     0.626697       0.575517   \n",
      "2          0.643958     0.678581       0.586562     0.615511       0.577765   \n",
      "3          0.637455     0.661142       0.583465     0.604737       0.572355   \n",
      "4          0.652292     0.652794       0.590596     0.596148       0.580547   \n",
      "...             ...          ...            ...          ...            ...   \n",
      "1883       0.711250     0.777944       0.764802     0.691179       0.745879   \n",
      "1884       0.787033     0.562799       0.837598     0.637693       0.832945   \n",
      "1885       0.807957     0.516543       0.858490     0.598646       0.851785   \n",
      "1886       0.562498     0.266838       0.586865     0.247625       0.598631   \n",
      "1887       0.533090     0.298988       0.559337     0.262133       0.564642   \n",
      "\n",
      "      Landmark_20  Landmark_20.1  Landmark_21  Landmark_21.1     Label  \n",
      "0        0.656856       0.631025     0.683112       0.646542  backward  \n",
      "1        0.628966       0.623567     0.649154       0.643395  backward  \n",
      "2        0.617524       0.622084     0.634142       0.644883  backward  \n",
      "3        0.606173       0.616222     0.621086       0.640071  backward  \n",
      "4        0.594419       0.623579     0.605302       0.649698  backward  \n",
      "...           ...            ...          ...            ...       ...  \n",
      "1883     0.687029       0.747335     0.706820       0.748922        up  \n",
      "1884     0.616306       0.832321     0.586475       0.831837        up  \n",
      "1885     0.574327       0.856568     0.540592       0.857038        up  \n",
      "1886     0.272437       0.607869     0.296061       0.604876        up  \n",
      "1887     0.287218       0.575973     0.312818       0.575069        up  \n",
      "\n",
      "[1888 rows x 43 columns]\n"
     ]
    }
   ],
   "source": [
    "df=pd.read_csv(path)\n",
    "print(df)"
   ],
   "metadata": {
    "collapsed": false,
    "ExecuteTime": {
     "end_time": "2024-01-24T15:15:47.045380800Z",
     "start_time": "2024-01-24T15:15:46.963373900Z"
    }
   },
   "id": "3f7711de0d0961c3",
   "execution_count": 4
  },
  {
   "cell_type": "code",
   "outputs": [
    {
     "name": "stdout",
     "output_type": "stream",
     "text": [
      "Label: land, Count: 276\n",
      "Label: left, Count: 275\n",
      "Label: backward, Count: 261\n",
      "Label: flip, Count: 248\n",
      "Label: up, Count: 233\n",
      "Label: down, Count: 204\n",
      "Label: right, Count: 199\n",
      "Label: forward, Count: 192\n"
     ]
    }
   ],
   "source": [
    "# Print unique values and their counts in the \"Label\" column\n",
    "label_counts = df['Label'].value_counts()\n",
    "\n",
    "for label, count in label_counts.items():\n",
    "    print(f\"Label: {label}, Count: {count}\")\n"
   ],
   "metadata": {
    "collapsed": false,
    "ExecuteTime": {
     "end_time": "2024-01-24T15:15:48.444481900Z",
     "start_time": "2024-01-24T15:15:48.398480500Z"
    }
   },
   "id": "a1681e58f7263947",
   "execution_count": 5
  },
  {
   "cell_type": "code",
   "outputs": [
    {
     "name": "stdout",
     "output_type": "stream",
     "text": [
      "Train set shape: (1695, 43)\n",
      "Test set shape: (193, 43)\n"
     ]
    }
   ],
   "source": [
    "from sklearn.model_selection import train_test_split\n",
    "\n",
    "# Define the feature columns (excluding the 'Label' column)\n",
    "feature_columns = df.columns[df.columns != 'Label']\n",
    "\n",
    "# Initialize lists to store train and test sets\n",
    "train_data = []\n",
    "test_data = []\n",
    "\n",
    "# Split the data for each unique label\n",
    "for label in df['Label'].unique():\n",
    "    # Select data for the current label\n",
    "    label_data = df[df['Label'] == label]\n",
    "\n",
    "    # Split the data into 90% for training and 10% for testing\n",
    "    train_label, test_label = train_test_split(label_data, test_size=0.1, random_state=42)\n",
    "\n",
    "    # Append to the train and test sets\n",
    "    train_data.append(train_label)\n",
    "    test_data.append(test_label)\n",
    "\n",
    "# Concatenate the train and test sets for each label\n",
    "train_df = pd.concat(train_data)\n",
    "test_df = pd.concat(test_data)\n",
    "\n",
    "# Display the shapes of train and test sets\n",
    "print(\"Train set shape:\", train_df.shape)\n",
    "print(\"Test set shape:\", test_df.shape)\n"
   ],
   "metadata": {
    "collapsed": false,
    "ExecuteTime": {
     "end_time": "2024-01-24T15:15:55.420238Z",
     "start_time": "2024-01-24T15:15:55.364235600Z"
    }
   },
   "id": "75c05dc38e2bab23",
   "execution_count": 6
  },
  {
   "cell_type": "code",
   "outputs": [],
   "source": [
    "# Assuming 'Label' is the column to be dropped\n",
    "x_train = train_df.drop(columns='Label')\n",
    "x_test = test_df.drop(columns='Label')\n",
    "y_train = train_df['Label']\n",
    "y_test = test_df['Label']\n"
   ],
   "metadata": {
    "collapsed": false,
    "ExecuteTime": {
     "end_time": "2024-01-24T15:15:57.203118400Z",
     "start_time": "2024-01-24T15:15:57.167118100Z"
    }
   },
   "id": "dd4572dc60877fd9",
   "execution_count": 7
  },
  {
   "cell_type": "code",
   "outputs": [
    {
     "name": "stdout",
     "output_type": "stream",
     "text": [
      "30      backward\n",
      "143     backward\n",
      "170     backward\n",
      "73      backward\n",
      "159     backward\n",
      "          ...   \n",
      "1679          up\n",
      "1862          up\n",
      "1665          up\n",
      "1793          up\n",
      "1841          up\n",
      "Name: Label, Length: 193, dtype: object\n",
      "46      backward\n",
      "158     backward\n",
      "15      backward\n",
      "237     backward\n",
      "229     backward\n",
      "          ...   \n",
      "1761          up\n",
      "1669          up\n",
      "1747          up\n",
      "1834          up\n",
      "1757          up\n",
      "Name: Label, Length: 1695, dtype: object\n"
     ]
    }
   ],
   "source": [
    "print(y_test)\n",
    "print(y_train)"
   ],
   "metadata": {
    "collapsed": false,
    "ExecuteTime": {
     "end_time": "2024-01-24T15:15:59.275078600Z",
     "start_time": "2024-01-24T15:15:59.237075900Z"
    }
   },
   "id": "fa8d5cd592823535",
   "execution_count": 8
  },
  {
   "cell_type": "code",
   "outputs": [
    {
     "name": "stdout",
     "output_type": "stream",
     "text": [
      "      Landmark_1  Landmark_1.1  Landmark_2  Landmark_2.1  Landmark_3  \\\n",
      "46      0.755237      0.798447    0.693529      0.739575    0.680238   \n",
      "158     0.690413      0.548448    0.649843      0.528170    0.638383   \n",
      "15      0.669146      0.728127    0.630494      0.664610    0.623117   \n",
      "237     0.152070      0.387291    0.182219      0.369702    0.198906   \n",
      "229     0.208370      0.937315    0.216483      0.872388    0.199270   \n",
      "...          ...           ...         ...           ...         ...   \n",
      "1761    0.691856      0.863727    0.678306      0.772705    0.653390   \n",
      "1669    0.368657      0.667468    0.346659      0.552859    0.311714   \n",
      "1747    0.786952      0.917946    0.766721      0.819830    0.757668   \n",
      "1834    0.308823      0.814156    0.327682      0.690792    0.326303   \n",
      "1757    0.695969      0.593263    0.651356      0.503459    0.617305   \n",
      "\n",
      "      Landmark_3.1  Landmark_4  Landmark_4.1  Landmark_5  Landmark_5.1  ...  \\\n",
      "46        0.671758    0.669077      0.628551    0.656666      0.584809  ...   \n",
      "158       0.494496    0.628995      0.473272    0.617624      0.455869  ...   \n",
      "15        0.607297    0.618424      0.571734    0.615304      0.535321  ...   \n",
      "237       0.341807    0.205023      0.315422    0.214887      0.293916  ...   \n",
      "229       0.815221    0.169602      0.796087    0.141382      0.803329  ...   \n",
      "...            ...         ...           ...         ...           ...  ...   \n",
      "1761      0.662447    0.644292      0.582915    0.643905      0.516926  ...   \n",
      "1669      0.463143    0.283970      0.390139    0.267846      0.331410  ...   \n",
      "1747      0.735080    0.755489      0.665838    0.758340      0.601439  ...   \n",
      "1834      0.569077    0.314019      0.463960    0.301053      0.387227  ...   \n",
      "1757      0.399510    0.604153      0.314307    0.603583      0.243972  ...   \n",
      "\n",
      "      Landmark_17  Landmark_17.1  Landmark_18  Landmark_18.1  Landmark_19  \\\n",
      "46       0.711070       0.653609     0.767249       0.586685     0.694046   \n",
      "158      0.648604       0.436943     0.682545       0.378088     0.625659   \n",
      "15       0.626487       0.602531     0.676039       0.528226     0.604859   \n",
      "237      0.117821       0.271613     0.092867       0.250929     0.073330   \n",
      "229      0.134849       0.850743     0.147008       0.813338     0.099572   \n",
      "...           ...            ...          ...            ...          ...   \n",
      "1761     0.600224       0.811793     0.624660       0.879495     0.548530   \n",
      "1669     0.243654       0.623982     0.194874       0.668378     0.201501   \n",
      "1747     0.774362       0.894379     0.804641       0.955061     0.726007   \n",
      "1834     0.290755       0.632761     0.327375       0.683369     0.311806   \n",
      "1757     0.621608       0.528352     0.666727       0.562598     0.581112   \n",
      "\n",
      "      Landmark_19.1  Landmark_20  Landmark_20.1  Landmark_21  Landmark_21.1  \n",
      "46         0.593064     0.696783       0.641833     0.722533       0.656096  \n",
      "158        0.386229     0.630579       0.424336     0.651078       0.432009  \n",
      "15         0.528303     0.605263       0.577994     0.626512       0.595166  \n",
      "237        0.246937     0.076299       0.265140     0.085626       0.278126  \n",
      "229        0.832617     0.112064       0.863118     0.130679       0.869528  \n",
      "...             ...          ...            ...          ...            ...  \n",
      "1761       0.844056     0.570019       0.847214     0.598081       0.859435  \n",
      "1669       0.665556     0.223424       0.666523     0.241714       0.666805  \n",
      "1747       0.951210     0.747566       0.947500     0.784744       0.946292  \n",
      "1834       0.630903     0.307280       0.636955     0.305441       0.646583  \n",
      "1757       0.568422     0.601009       0.573345     0.631237       0.571137  \n",
      "\n",
      "[1695 rows x 42 columns]\n",
      "      Landmark_1  Landmark_1.1  Landmark_2  Landmark_2.1  Landmark_3  \\\n",
      "30      0.649073      0.563328    0.652674      0.497062    0.639973   \n",
      "143     0.622085      0.574523    0.628796      0.515762    0.614188   \n",
      "170     0.745179      0.680058    0.690743      0.650014    0.667864   \n",
      "73      0.683281      0.734688    0.707768      0.681844    0.707197   \n",
      "159     0.708730      0.525006    0.678165      0.504539    0.666435   \n",
      "...          ...           ...         ...           ...         ...   \n",
      "1679    0.753078      0.867446    0.712849      0.730397    0.681754   \n",
      "1862    0.140072      0.614543    0.185662      0.484740    0.201366   \n",
      "1665    0.456088      0.831353    0.443187      0.713732    0.411393   \n",
      "1793    0.741514      0.867768    0.691433      0.728607    0.674788   \n",
      "1841    0.256003      0.669826    0.259770      0.523088    0.288939   \n",
      "\n",
      "      Landmark_3.1  Landmark_4  Landmark_4.1  Landmark_5  Landmark_5.1  ...  \\\n",
      "30        0.431860    0.614508      0.400162    0.586730      0.389925  ...   \n",
      "143       0.466567    0.588862      0.446436    0.567216      0.441749  ...   \n",
      "170       0.609466    0.649607      0.589764    0.634527      0.569925  ...   \n",
      "73        0.634664    0.692402      0.603856    0.675981      0.586915  ...   \n",
      "159       0.475854    0.655073      0.448124    0.647357      0.421992  ...   \n",
      "...            ...         ...           ...         ...           ...  ...   \n",
      "1679      0.606299    0.663414      0.503868    0.658231      0.416263  ...   \n",
      "1862      0.381748    0.207801      0.319112    0.207767      0.261112  ...   \n",
      "1665      0.615328    0.383769      0.531415    0.369704      0.461623  ...   \n",
      "1793      0.600221    0.673120      0.500786    0.668754      0.416083  ...   \n",
      "1841      0.395901    0.315862      0.294526    0.325837      0.219713  ...   \n",
      "\n",
      "      Landmark_17  Landmark_17.1  Landmark_18  Landmark_18.1  Landmark_19  \\\n",
      "30       0.572531       0.448433     0.594909       0.390315     0.536439   \n",
      "143      0.562837       0.472899     0.565031       0.428445     0.524690   \n",
      "170      0.688981       0.561786     0.726541       0.514781     0.668709   \n",
      "73       0.633208       0.635329     0.637868       0.580739     0.599165   \n",
      "159      0.663314       0.416628     0.696051       0.358653     0.641975   \n",
      "...           ...            ...          ...            ...          ...   \n",
      "1679     0.675390       0.776932     0.734662       0.835984     0.626720   \n",
      "1862     0.163634       0.422332     0.094666       0.443955     0.181182   \n",
      "1665     0.333098       0.777122     0.300350       0.828281     0.292044   \n",
      "1793     0.698654       0.746572     0.769359       0.776087     0.662434   \n",
      "1841     0.417127       0.526050     0.426836       0.560897     0.477437   \n",
      "\n",
      "      Landmark_19.1  Landmark_20  Landmark_20.1  Landmark_21  Landmark_21.1  \n",
      "30         0.397165     0.542947       0.437884     0.560432       0.455692  \n",
      "143        0.439923     0.532943       0.472645     0.549263       0.483233  \n",
      "170        0.521091     0.671419       0.554433     0.690174       0.561806  \n",
      "73         0.584752     0.599577       0.620830     0.610482       0.641079  \n",
      "159        0.363291     0.647715       0.399731     0.664445       0.410417  \n",
      "...             ...          ...            ...          ...            ...  \n",
      "1679       0.815763     0.644504       0.825645     0.683271       0.829578  \n",
      "1862       0.426655     0.177994       0.450664     0.150688       0.456465  \n",
      "1665       0.807076     0.313110       0.813845     0.332156       0.820573  \n",
      "1793       0.775741     0.676901       0.793253     0.712051       0.795608  \n",
      "1841       0.532980     0.451241       0.554576     0.423652       0.571051  \n",
      "\n",
      "[193 rows x 42 columns]\n"
     ]
    }
   ],
   "source": [
    "print(x_train)\n",
    "print(x_test)"
   ],
   "metadata": {
    "collapsed": false,
    "ExecuteTime": {
     "end_time": "2024-01-24T15:16:01.448333400Z",
     "start_time": "2024-01-24T15:16:01.399330300Z"
    }
   },
   "id": "6c5d7193ff3f7cb0",
   "execution_count": 9
  },
  {
   "cell_type": "code",
   "outputs": [],
   "source": [],
   "metadata": {
    "collapsed": false,
    "ExecuteTime": {
     "end_time": "2024-01-24T15:16:08.644280900Z",
     "start_time": "2024-01-24T15:16:08.614279100Z"
    }
   },
   "id": "87530e7b87cf544e",
   "execution_count": 9
  },
  {
   "cell_type": "code",
   "outputs": [],
   "source": [
    "# Create a mapping dictionary\n",
    "label_mapping = {'up': 0, 'down': 1, 'left': 2, 'right': 3, 'land': 4, 'flip': 5, 'forward': 6, 'backward': 7}\n",
    "\n",
    "# Apply the mapping to training set labels\n",
    "y_train_encoded = y_train.map(label_mapping)\n",
    "\n",
    "# Apply the mapping to test set labels\n",
    "y_test_encoded = y_test.map(label_mapping)\n"
   ],
   "metadata": {
    "collapsed": false,
    "ExecuteTime": {
     "end_time": "2024-01-24T15:16:11.416147800Z",
     "start_time": "2024-01-24T15:16:11.387146800Z"
    }
   },
   "id": "ee925a5e57b64e5a",
   "execution_count": 10
  },
  {
   "cell_type": "code",
   "outputs": [
    {
     "name": "stdout",
     "output_type": "stream",
     "text": [
      "Value: 4, Count: 28\n",
      "Value: 2, Count: 28\n",
      "Value: 7, Count: 27\n",
      "Value: 5, Count: 25\n",
      "Value: 0, Count: 24\n",
      "Value: 1, Count: 21\n",
      "Value: 6, Count: 20\n",
      "Value: 3, Count: 20\n"
     ]
    }
   ],
   "source": [
    "\n",
    "unique_values_counts = y_test_encoded.value_counts()\n",
    "for value, count in unique_values_counts.items():\n",
    "    print(f\"Value: {value}, Count: {count}\")"
   ],
   "metadata": {
    "collapsed": false,
    "ExecuteTime": {
     "end_time": "2024-01-24T15:16:13.355638900Z",
     "start_time": "2024-01-24T15:16:13.330638600Z"
    }
   },
   "id": "468b9a0a1ffc356d",
   "execution_count": 11
  },
  {
   "cell_type": "code",
   "outputs": [
    {
     "name": "stdout",
     "output_type": "stream",
     "text": [
      "Training Accuracy: 1.0\n"
     ]
    }
   ],
   "source": [
    "from xgboost import XGBClassifier\n",
    "\n",
    "xgb_classifier = XGBClassifier(n_estimators=50)\n",
    "\n",
    "# Train the model\n",
    "xgb_classifier.fit(x_train, y_train_encoded)\n",
    "\n",
    "\n",
    "y_pred_train = xgb_classifier.predict(x_train)\n",
    "\n",
    "# Evaluate the accuracy on the training set\n",
    "accuracy_train = accuracy_score(y_train_encoded, y_pred_train)\n",
    "print(f\"Training Accuracy: {accuracy_train}\")"
   ],
   "metadata": {
    "collapsed": false,
    "ExecuteTime": {
     "end_time": "2024-01-24T15:17:27.375310500Z",
     "start_time": "2024-01-24T15:17:26.131221400Z"
    }
   },
   "id": "6ce576af0e66843f",
   "execution_count": 22
  },
  {
   "cell_type": "code",
   "outputs": [
    {
     "name": "stdout",
     "output_type": "stream",
     "text": [
      "Accuracy: 0.9896373056994818\n"
     ]
    }
   ],
   "source": [
    "from sklearn.metrics import accuracy_score\n",
    "y_pred = xgb_classifier.predict(x_test)\n",
    "accuracy = accuracy_score(y_test_encoded, y_pred)\n",
    "print(f\"Accuracy: {accuracy}\")"
   ],
   "metadata": {
    "collapsed": false,
    "ExecuteTime": {
     "end_time": "2024-01-24T15:17:33.615496400Z",
     "start_time": "2024-01-24T15:17:33.578498300Z"
    }
   },
   "id": "7422957b3b6efe8c",
   "execution_count": 24
  },
  {
   "cell_type": "code",
   "outputs": [
    {
     "name": "stdout",
     "output_type": "stream",
     "text": [
      "Model saved to xgb_model.pkl\n"
     ]
    }
   ],
   "source": [
    "import pickle\n",
    "\n",
    "# Save the trained model to a file\n",
    "model_filename = \"xgb_model.pkl\"\n",
    "with open(model_filename, 'wb') as model_file:\n",
    "    pickle.dump(xgb_classifier, model_file)\n",
    "\n",
    "print(f\"Model saved to {model_filename}\")"
   ],
   "metadata": {
    "collapsed": false,
    "ExecuteTime": {
     "end_time": "2024-01-24T15:17:39.395921Z",
     "start_time": "2024-01-24T15:17:39.367921900Z"
    }
   },
   "id": "fffbf2f5b98aafbc",
   "execution_count": 25
  },
  {
   "cell_type": "code",
   "outputs": [],
   "source": [
    "def get_landmarks(image_path):\n",
    "    # Read the image\n",
    "    img = cv2.imread(image_path)\n",
    "    x, y, c = img.shape\n",
    "\n",
    "    # Initialize Mediapipe hands\n",
    "    mpHands = mp.solutions.hands\n",
    "    hands = mpHands.Hands(max_num_hands=1, min_detection_confidence=0.7)\n",
    "    mpDraw = mp.solutions.drawing_utils\n",
    "\n",
    "    # Convert the image to RGB\n",
    "    img_rgb = cv2.cvtColor(img, cv2.COLOR_BGR2RGB)\n",
    "\n",
    "    # Get hand landmark prediction\n",
    "    result = hands.process(img_rgb)\n",
    "\n",
    "    # Extract landmarks\n",
    "    landmarks = []\n",
    "    if result.multi_hand_landmarks:\n",
    "        for handslms in result.multi_hand_landmarks:\n",
    "            for lm in handslms.landmark:\n",
    "                landmarks.append([lm.x, lm.y])\n",
    "\n",
    "    return landmarks"
   ],
   "metadata": {
    "collapsed": false,
    "ExecuteTime": {
     "end_time": "2024-01-24T07:08:09.759459700Z",
     "start_time": "2024-01-24T07:08:09.719457900Z"
    }
   },
   "id": "18b5c95b37d9d5b8",
   "execution_count": 68
  },
  {
   "cell_type": "code",
   "outputs": [
    {
     "name": "stdout",
     "output_type": "stream",
     "text": [
      "WARNING:tensorflow:From C:\\Users\\sarth\\PycharmProjects\\handgesturerecog\\.venv\\lib\\site-packages\\keras\\src\\losses.py:2976: The name tf.losses.sparse_softmax_cross_entropy is deprecated. Please use tf.compat.v1.losses.sparse_softmax_cross_entropy instead.\n"
     ]
    }
   ],
   "source": [
    "import cv2\n",
    "import mediapipe as mp"
   ],
   "metadata": {
    "collapsed": false,
    "ExecuteTime": {
     "end_time": "2024-01-24T06:39:30.499399200Z",
     "start_time": "2024-01-24T06:38:46.269751600Z"
    }
   },
   "id": "1737ea459b2e8e90",
   "execution_count": 19
  },
  {
   "cell_type": "code",
   "outputs": [
    {
     "ename": "ValueError",
     "evalue": "Feature shape mismatch, expected: 42, got 0",
     "output_type": "error",
     "traceback": [
      "\u001B[1;31m---------------------------------------------------------------------------\u001B[0m",
      "\u001B[1;31mValueError\u001B[0m                                Traceback (most recent call last)",
      "Cell \u001B[1;32mIn[70], line 24\u001B[0m\n\u001B[0;32m     22\u001B[0m \u001B[38;5;66;03m# Example usage\u001B[39;00m\n\u001B[0;32m     23\u001B[0m image_path \u001B[38;5;241m=\u001B[39m \u001B[38;5;124m\"\u001B[39m\u001B[38;5;124mgesture_dataset/backward_838.png\u001B[39m\u001B[38;5;124m\"\u001B[39m\n\u001B[1;32m---> 24\u001B[0m \u001B[43mpredict_label_and_probs\u001B[49m\u001B[43m(\u001B[49m\u001B[43mimage_path\u001B[49m\u001B[43m,\u001B[49m\u001B[43m \u001B[49m\u001B[43mxgb_classifier\u001B[49m\u001B[43m,\u001B[49m\u001B[43m \u001B[49m\u001B[43mlabel_mapping\u001B[49m\u001B[43m)\u001B[49m\n",
      "Cell \u001B[1;32mIn[70], line 12\u001B[0m, in \u001B[0;36mpredict_label_and_probs\u001B[1;34m(image_path, model, label_mapping)\u001B[0m\n\u001B[0;32m      9\u001B[0m input_data \u001B[38;5;241m=\u001B[39m np\u001B[38;5;241m.\u001B[39marray(flat_landmarks)\u001B[38;5;241m.\u001B[39mreshape(\u001B[38;5;241m1\u001B[39m, \u001B[38;5;241m-\u001B[39m\u001B[38;5;241m1\u001B[39m)\n\u001B[0;32m     11\u001B[0m \u001B[38;5;66;03m# Make prediction using the loaded XGBoost model\u001B[39;00m\n\u001B[1;32m---> 12\u001B[0m predicted_probs \u001B[38;5;241m=\u001B[39m \u001B[43mmodel\u001B[49m\u001B[38;5;241;43m.\u001B[39;49m\u001B[43mpredict_proba\u001B[49m\u001B[43m(\u001B[49m\u001B[43minput_data\u001B[49m\u001B[43m)\u001B[49m[\u001B[38;5;241m0\u001B[39m]\n\u001B[0;32m     14\u001B[0m \u001B[38;5;66;03m# Convert the encoded label back to the original label using the mapping dictionary\u001B[39;00m\n\u001B[0;32m     15\u001B[0m predicted_labels \u001B[38;5;241m=\u001B[39m [key \u001B[38;5;28;01mfor\u001B[39;00m key, value \u001B[38;5;129;01min\u001B[39;00m label_mapping\u001B[38;5;241m.\u001B[39mitems()]\n",
      "File \u001B[1;32m~\\PycharmProjects\\handgesturerecog\\.venv\\lib\\site-packages\\xgboost\\sklearn.py:1632\u001B[0m, in \u001B[0;36mXGBClassifier.predict_proba\u001B[1;34m(self, X, validate_features, base_margin, iteration_range)\u001B[0m\n\u001B[0;32m   1630\u001B[0m     class_prob \u001B[38;5;241m=\u001B[39m softmax(raw_predt, axis\u001B[38;5;241m=\u001B[39m\u001B[38;5;241m1\u001B[39m)\n\u001B[0;32m   1631\u001B[0m     \u001B[38;5;28;01mreturn\u001B[39;00m class_prob\n\u001B[1;32m-> 1632\u001B[0m class_probs \u001B[38;5;241m=\u001B[39m \u001B[38;5;28;43msuper\u001B[39;49m\u001B[43m(\u001B[49m\u001B[43m)\u001B[49m\u001B[38;5;241;43m.\u001B[39;49m\u001B[43mpredict\u001B[49m\u001B[43m(\u001B[49m\n\u001B[0;32m   1633\u001B[0m \u001B[43m    \u001B[49m\u001B[43mX\u001B[49m\u001B[38;5;241;43m=\u001B[39;49m\u001B[43mX\u001B[49m\u001B[43m,\u001B[49m\n\u001B[0;32m   1634\u001B[0m \u001B[43m    \u001B[49m\u001B[43mvalidate_features\u001B[49m\u001B[38;5;241;43m=\u001B[39;49m\u001B[43mvalidate_features\u001B[49m\u001B[43m,\u001B[49m\n\u001B[0;32m   1635\u001B[0m \u001B[43m    \u001B[49m\u001B[43mbase_margin\u001B[49m\u001B[38;5;241;43m=\u001B[39;49m\u001B[43mbase_margin\u001B[49m\u001B[43m,\u001B[49m\n\u001B[0;32m   1636\u001B[0m \u001B[43m    \u001B[49m\u001B[43miteration_range\u001B[49m\u001B[38;5;241;43m=\u001B[39;49m\u001B[43miteration_range\u001B[49m\u001B[43m,\u001B[49m\n\u001B[0;32m   1637\u001B[0m \u001B[43m\u001B[49m\u001B[43m)\u001B[49m\n\u001B[0;32m   1638\u001B[0m \u001B[38;5;28;01mreturn\u001B[39;00m _cls_predict_proba(\u001B[38;5;28mself\u001B[39m\u001B[38;5;241m.\u001B[39mn_classes_, class_probs, np\u001B[38;5;241m.\u001B[39mvstack)\n",
      "File \u001B[1;32m~\\PycharmProjects\\handgesturerecog\\.venv\\lib\\site-packages\\xgboost\\sklearn.py:1168\u001B[0m, in \u001B[0;36mXGBModel.predict\u001B[1;34m(self, X, output_margin, validate_features, base_margin, iteration_range)\u001B[0m\n\u001B[0;32m   1166\u001B[0m \u001B[38;5;28;01mif\u001B[39;00m \u001B[38;5;28mself\u001B[39m\u001B[38;5;241m.\u001B[39m_can_use_inplace_predict():\n\u001B[0;32m   1167\u001B[0m     \u001B[38;5;28;01mtry\u001B[39;00m:\n\u001B[1;32m-> 1168\u001B[0m         predts \u001B[38;5;241m=\u001B[39m \u001B[38;5;28;43mself\u001B[39;49m\u001B[38;5;241;43m.\u001B[39;49m\u001B[43mget_booster\u001B[49m\u001B[43m(\u001B[49m\u001B[43m)\u001B[49m\u001B[38;5;241;43m.\u001B[39;49m\u001B[43minplace_predict\u001B[49m\u001B[43m(\u001B[49m\n\u001B[0;32m   1169\u001B[0m \u001B[43m            \u001B[49m\u001B[43mdata\u001B[49m\u001B[38;5;241;43m=\u001B[39;49m\u001B[43mX\u001B[49m\u001B[43m,\u001B[49m\n\u001B[0;32m   1170\u001B[0m \u001B[43m            \u001B[49m\u001B[43miteration_range\u001B[49m\u001B[38;5;241;43m=\u001B[39;49m\u001B[43miteration_range\u001B[49m\u001B[43m,\u001B[49m\n\u001B[0;32m   1171\u001B[0m \u001B[43m            \u001B[49m\u001B[43mpredict_type\u001B[49m\u001B[38;5;241;43m=\u001B[39;49m\u001B[38;5;124;43m\"\u001B[39;49m\u001B[38;5;124;43mmargin\u001B[39;49m\u001B[38;5;124;43m\"\u001B[39;49m\u001B[43m \u001B[49m\u001B[38;5;28;43;01mif\u001B[39;49;00m\u001B[43m \u001B[49m\u001B[43moutput_margin\u001B[49m\u001B[43m \u001B[49m\u001B[38;5;28;43;01melse\u001B[39;49;00m\u001B[43m \u001B[49m\u001B[38;5;124;43m\"\u001B[39;49m\u001B[38;5;124;43mvalue\u001B[39;49m\u001B[38;5;124;43m\"\u001B[39;49m\u001B[43m,\u001B[49m\n\u001B[0;32m   1172\u001B[0m \u001B[43m            \u001B[49m\u001B[43mmissing\u001B[49m\u001B[38;5;241;43m=\u001B[39;49m\u001B[38;5;28;43mself\u001B[39;49m\u001B[38;5;241;43m.\u001B[39;49m\u001B[43mmissing\u001B[49m\u001B[43m,\u001B[49m\n\u001B[0;32m   1173\u001B[0m \u001B[43m            \u001B[49m\u001B[43mbase_margin\u001B[49m\u001B[38;5;241;43m=\u001B[39;49m\u001B[43mbase_margin\u001B[49m\u001B[43m,\u001B[49m\n\u001B[0;32m   1174\u001B[0m \u001B[43m            \u001B[49m\u001B[43mvalidate_features\u001B[49m\u001B[38;5;241;43m=\u001B[39;49m\u001B[43mvalidate_features\u001B[49m\u001B[43m,\u001B[49m\n\u001B[0;32m   1175\u001B[0m \u001B[43m        \u001B[49m\u001B[43m)\u001B[49m\n\u001B[0;32m   1176\u001B[0m         \u001B[38;5;28;01mif\u001B[39;00m _is_cupy_array(predts):\n\u001B[0;32m   1177\u001B[0m             \u001B[38;5;28;01mimport\u001B[39;00m \u001B[38;5;21;01mcupy\u001B[39;00m  \u001B[38;5;66;03m# pylint: disable=import-error\u001B[39;00m\n",
      "File \u001B[1;32m~\\PycharmProjects\\handgesturerecog\\.venv\\lib\\site-packages\\xgboost\\core.py:2428\u001B[0m, in \u001B[0;36mBooster.inplace_predict\u001B[1;34m(self, data, iteration_range, predict_type, missing, validate_features, base_margin, strict_shape)\u001B[0m\n\u001B[0;32m   2424\u001B[0m         \u001B[38;5;28;01mraise\u001B[39;00m \u001B[38;5;167;01mTypeError\u001B[39;00m(\n\u001B[0;32m   2425\u001B[0m             \u001B[38;5;124m\"\u001B[39m\u001B[38;5;124m`shape` attribute is required when `validate_features` is True.\u001B[39m\u001B[38;5;124m\"\u001B[39m\n\u001B[0;32m   2426\u001B[0m         )\n\u001B[0;32m   2427\u001B[0m     \u001B[38;5;28;01mif\u001B[39;00m \u001B[38;5;28mlen\u001B[39m(data\u001B[38;5;241m.\u001B[39mshape) \u001B[38;5;241m!=\u001B[39m \u001B[38;5;241m1\u001B[39m \u001B[38;5;129;01mand\u001B[39;00m \u001B[38;5;28mself\u001B[39m\u001B[38;5;241m.\u001B[39mnum_features() \u001B[38;5;241m!=\u001B[39m data\u001B[38;5;241m.\u001B[39mshape[\u001B[38;5;241m1\u001B[39m]:\n\u001B[1;32m-> 2428\u001B[0m         \u001B[38;5;28;01mraise\u001B[39;00m \u001B[38;5;167;01mValueError\u001B[39;00m(\n\u001B[0;32m   2429\u001B[0m             \u001B[38;5;124mf\u001B[39m\u001B[38;5;124m\"\u001B[39m\u001B[38;5;124mFeature shape mismatch, expected: \u001B[39m\u001B[38;5;132;01m{\u001B[39;00m\u001B[38;5;28mself\u001B[39m\u001B[38;5;241m.\u001B[39mnum_features()\u001B[38;5;132;01m}\u001B[39;00m\u001B[38;5;124m, \u001B[39m\u001B[38;5;124m\"\u001B[39m\n\u001B[0;32m   2430\u001B[0m             \u001B[38;5;124mf\u001B[39m\u001B[38;5;124m\"\u001B[39m\u001B[38;5;124mgot \u001B[39m\u001B[38;5;132;01m{\u001B[39;00mdata\u001B[38;5;241m.\u001B[39mshape[\u001B[38;5;241m1\u001B[39m]\u001B[38;5;132;01m}\u001B[39;00m\u001B[38;5;124m\"\u001B[39m\n\u001B[0;32m   2431\u001B[0m         )\n\u001B[0;32m   2433\u001B[0m \u001B[38;5;28;01mif\u001B[39;00m _is_np_array_like(data):\n\u001B[0;32m   2434\u001B[0m     \u001B[38;5;28;01mfrom\u001B[39;00m \u001B[38;5;21;01m.\u001B[39;00m\u001B[38;5;21;01mdata\u001B[39;00m \u001B[38;5;28;01mimport\u001B[39;00m _ensure_np_dtype\n",
      "\u001B[1;31mValueError\u001B[0m: Feature shape mismatch, expected: 42, got 0"
     ]
    }
   ],
   "source": [
    "def predict_label_and_probs(image_path, model, label_mapping):\n",
    "    # Get landmarks from the image\n",
    "    landmarks = get_landmarks(image_path)\n",
    "    \n",
    "    # Convert landmarks to a flat list\n",
    "    flat_landmarks = [val for sublist in landmarks for val in sublist]\n",
    "\n",
    "    # Reshape the flat list to match the input format expected by the model\n",
    "    input_data = np.array(flat_landmarks).reshape(1, -1)\n",
    "\n",
    "    # Make prediction using the loaded XGBoost model\n",
    "    predicted_probs = model.predict_proba(input_data)[0]\n",
    "\n",
    "    # Convert the encoded label back to the original label using the mapping dictionary\n",
    "    predicted_labels = [key for key, value in label_mapping.items()]\n",
    "    \n",
    "    # Print the predicted label and probabilities\n",
    "    print(\"Predicted Label Probabilities:\")\n",
    "    for label, prob in zip(predicted_labels, predicted_probs):\n",
    "        print(f\"{label}: {prob:.2%}\")\n",
    "\n",
    "# Example usage\n",
    "image_path = \"gesture_dataset/backward_838.png\"\n",
    "predict_label_and_probs(image_path, xgb_classifier, label_mapping)"
   ],
   "metadata": {
    "collapsed": false,
    "ExecuteTime": {
     "end_time": "2024-01-24T07:08:42.298514500Z",
     "start_time": "2024-01-24T07:08:41.950489400Z"
    }
   },
   "id": "cb0856955d713fbf",
   "execution_count": 70
  },
  {
   "cell_type": "code",
   "outputs": [],
   "source": [],
   "metadata": {
    "collapsed": false
   },
   "id": "b236ca4e811f82aa"
  }
 ],
 "metadata": {
  "kernelspec": {
   "display_name": "Python 3",
   "language": "python",
   "name": "python3"
  },
  "language_info": {
   "codemirror_mode": {
    "name": "ipython",
    "version": 2
   },
   "file_extension": ".py",
   "mimetype": "text/x-python",
   "name": "python",
   "nbconvert_exporter": "python",
   "pygments_lexer": "ipython2",
   "version": "2.7.6"
  }
 },
 "nbformat": 4,
 "nbformat_minor": 5
}
